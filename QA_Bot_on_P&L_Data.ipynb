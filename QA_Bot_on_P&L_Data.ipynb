{
  "nbformat": 4,
  "nbformat_minor": 0,
  "metadata": {
    "colab": {
      "provenance": []
    },
    "kernelspec": {
      "name": "python3",
      "display_name": "Python 3"
    },
    "language_info": {
      "name": "python"
    }
  },
  "cells": [
    {
      "cell_type": "markdown",
      "source": [
        "### **PART 1 RAG_MODEL**"
      ],
      "metadata": {
        "id": "odW_k8IeEqHV"
      }
    },
    {
      "cell_type": "markdown",
      "source": [
        "**# Python Libraries**"
      ],
      "metadata": {
        "id": "hslUu3hU6CEe"
      }
    },
    {
      "cell_type": "code",
      "source": [
        "import PyPDF2\n",
        "import pandas as pd\n",
        "from sentence_transformers import SentenceTransformer\n",
        "import faiss\n",
        "import numpy as np\n",
        "import google.generativeai as genai"
      ],
      "metadata": {
        "id": "lBMiwQjv05g8"
      },
      "execution_count": 5,
      "outputs": []
    },
    {
      "cell_type": "markdown",
      "source": [
        "**# Configure Gemini API**"
      ],
      "metadata": {
        "id": "uKEoZhuA5sQw"
      }
    },
    {
      "cell_type": "code",
      "source": [
        "# Configure Gemini API\n",
        "genai.configure(api_key=\"Your_API_Key\")"
      ],
      "metadata": {
        "id": "AE_LBAsm05Xy"
      },
      "execution_count": 22,
      "outputs": []
    },
    {
      "cell_type": "markdown",
      "source": [
        "**# Step 1: Extract P&L Data from PDF**"
      ],
      "metadata": {
        "id": "Jv1Po0dh56BY"
      }
    },
    {
      "cell_type": "code",
      "source": [
        "# Step 1: Extract P&L Data from PDF\n",
        "def extract_pdf_data(pdf_path):\n",
        "    with open(\"/content/SampleFinancial.pdf\", \"rb\") as file: # Open in binary mode 'rb'\n",
        "        reader = PyPDF2.PdfReader(file)\n",
        "        text = \"\"\n",
        "        for page in reader.pages:\n",
        "            text += page.extract_text()\n",
        "    return text"
      ],
      "metadata": {
        "id": "QXnNEV6P05Gd"
      },
      "execution_count": 23,
      "outputs": []
    },
    {
      "cell_type": "markdown",
      "source": [
        "**# Step 2: Preprocess Data (Convert to Key-Value Pairs)**"
      ],
      "metadata": {
        "id": "Xbyp4P1_5lCt"
      }
    },
    {
      "cell_type": "code",
      "source": [
        "def preprocess_data(text):\n",
        "    #Extract key-value pairs (customize based on your PDF structure)\n",
        "    data = {}\n",
        "    lines = text.split(\"\\n\")\n",
        "    for line in lines:\n",
        "        if \":\" in line:\n",
        "            key, value = line.split(\":\", 1)\n",
        "            data[key.strip()] = value.strip()\n",
        "    return data"
      ],
      "metadata": {
        "id": "6V_GfO911GSQ"
      },
      "execution_count": 24,
      "outputs": []
    },
    {
      "cell_type": "markdown",
      "source": [
        "**# Step 3: Generate Embeddings and Store in FAISS**"
      ],
      "metadata": {
        "id": "G4EH75V46QXW"
      }
    },
    {
      "cell_type": "code",
      "source": [
        "def create_faiss_index(data):\n",
        "    model = SentenceTransformer('all-MiniLM-L6-v2')  # Embedding model\n",
        "    keys = list(data.keys())\n",
        "    values = list(data.values())\n",
        "\n",
        "    # Generate embeddings for keys and values\n",
        "    key_embeddings = model.encode(keys)\n",
        "    value_embeddings = model.encode(values)\n",
        "\n",
        "    # Combine embeddings\n",
        "    embeddings = np.hstack((key_embeddings, value_embeddings))\n",
        "\n",
        "    # Create FAISS index\n",
        "    dimension = embeddings.shape[1]\n",
        "    index = faiss.IndexFlatL2(dimension)\n",
        "    index.add(embeddings)\n",
        "    return index, keys, values, model"
      ],
      "metadata": {
        "id": "-noKhuCi1GO1"
      },
      "execution_count": 25,
      "outputs": []
    },
    {
      "cell_type": "markdown",
      "source": [
        "**# Step 4: Retrieve Relevant Data**"
      ],
      "metadata": {
        "id": "vBtwc8HK6aBB"
      }
    },
    {
      "cell_type": "code",
      "source": [
        "def retrieve_data(query, index, keys, values, model, top_k=3):\n",
        "    query_embedding = model.encode([query])[0]\n",
        "    query_embedding = np.hstack((query_embedding, query_embedding))  # Match shape\n",
        "\n",
        "    # Search FAISS index\n",
        "    distances, indices = index.search(np.array([query_embedding]), top_k)\n",
        "    results = [(keys[i], values[i]) for i in indices[0]]\n",
        "    return results"
      ],
      "metadata": {
        "id": "qi-RA8pv1OgB"
      },
      "execution_count": 26,
      "outputs": []
    },
    {
      "cell_type": "markdown",
      "source": [
        "**# Step 5: Generate Response Using Gemini API**"
      ],
      "metadata": {
        "id": "kV-dq_yP6fkw"
      }
    },
    {
      "cell_type": "code",
      "source": [
        "def generate_response(query, context):\n",
        "    # Initialize Gemini model\n",
        "    model = genai.GenerativeModel('gemini-1.5-flash')\n",
        "    prompt = f\"Context: {context}\\n\\nQuestion: {query}\\nAnswer:\"\n",
        "    response = model.generate_content(prompt)\n",
        "    return response.text"
      ],
      "metadata": {
        "id": "jZHrKNSY1OW_"
      },
      "execution_count": 27,
      "outputs": []
    },
    {
      "cell_type": "markdown",
      "source": [
        "**# Example Usage**"
      ],
      "metadata": {
        "id": "-IlebN-r6mI4"
      }
    },
    {
      "cell_type": "code",
      "source": [
        "# Example Usage\n",
        "pdf_path = \"/content/SampleFinancial.pdf\"\n",
        "text = extract_pdf_data(pdf_path)\n",
        "data = preprocess_data(text)\n",
        "index, keys, values, model = create_faiss_index(data)"
      ],
      "metadata": {
        "id": "p0ycNfvo1N8y"
      },
      "execution_count": 28,
      "outputs": []
    },
    {
      "cell_type": "markdown",
      "source": [
        "**# Query the RAG Model**"
      ],
      "metadata": {
        "id": "ofhkjqE66qws"
      }
    },
    {
      "cell_type": "code",
      "source": [
        "query = \"\"\"What was the gross book value of the assets?\n",
        "    What specific assets and liabilities are measured at fair value on a recurring basis as of March 31, 2024?\n",
        "Why do the carrying amounts of Fortrade receivables, trade payables, and other assets/payables maturing within one year approximate fair value?\n",
        "Are there any assets or liabilities not measured at fair value on a recurring basis as of March 31, 2024? If so, how are they valued?\n",
        "What was the gross book value of the assets retired during the three months and year ended March 31, 2024? What was their net book value?\n",
        "What is the significance of the net book value being nil for the retired assets? Does this suggest they were fully depreciated?\n",
        "    \"\"\"\n",
        "results = retrieve_data(query, index, keys, values, model)\n",
        "context = \"\\n\".join([f\"{k}: {v}\" for k, v in results])\n",
        "response = generate_response(query, context)\n",
        "print(\"Response:\", response)"
      ],
      "metadata": {
        "colab": {
          "base_uri": "https://localhost:8080/",
          "height": 714
        },
        "id": "HuD-j4COx-5N",
        "outputId": "001c19ec-87de-45a5-fd7c-5a8818783149"
      },
      "execution_count": 51,
      "outputs": [
        {
          "output_type": "stream",
          "name": "stderr",
          "text": [
            "2025-01-28 00:22:31.045 200 POST /v1beta/models/gemini-1.5-flash:generateContent?%24alt=json%3Benum-encoding%3Dint (127.0.0.1) 7686.67ms\n"
          ]
        },
        {
          "output_type": "stream",
          "name": "stdout",
          "text": [
            "Response: Here are the answers based on the provided text:\n",
            "\n",
            "**1. What was the gross book value of the assets?**\n",
            "\n",
            "The text mentions several gross book values for retired assets:\n",
            "\n",
            "* **Year ended March 31, 2023:** ₹1,918 crore\n",
            "* **Three months ended March 31, 2024:** ₹181 crore\n",
            "* **Year ended March 31, 2024:** ₹775 crore\n",
            "\n",
            "The total gross book value of *retired* assets across both periods is not explicitly stated, but it can be calculated by summing these figures: ₹1,918 + ₹181 + ₹775 = ₹2,874 crore.  The total gross book value of *all* assets is not provided.\n",
            "\n",
            "\n",
            "**2. What specific assets and liabilities are measured at fair value on a recurring basis as of March 31, 2024?**\n",
            "\n",
            "Fortrade receivables, trade payables, and other assets and payables maturing within one year from the balance sheet date (March 31, 2024).\n",
            "\n",
            "\n",
            "**3. Why do the carrying amounts of Fortrade receivables, trade payables, and other assets/payables maturing within one year approximate fair value?**\n",
            "\n",
            "The text states this is due to their short-term nature.  The implication is that the time until maturity is so short that any difference between carrying amount and fair value is considered immaterial.\n",
            "\n",
            "\n",
            "**4. Are there any assets or liabilities not measured at fair value on a recurring basis as of March 31, 2024? If so, how are they valued?**\n",
            "\n",
            "The provided text doesn't explicitly state that *other* assets and liabilities are *not* measured at fair value on a recurring basis. However, it strongly implies this is the case for assets beyond those specifically listed.  The passage only explains the valuation of the short-term receivables and payables; the valuation method for other assets and liabilities is not specified.\n",
            "\n",
            "\n",
            "**5. What was the gross book value of the assets retired during the three months and year ended March 31, 2024? What was their net book value?**\n",
            "\n",
            "* **Gross book value:** ₹181 crore (three months) + ₹775 crore (year) = ₹956 crore\n",
            "* **Net book value:** Nil for both periods.\n",
            "\n",
            "\n",
            "**6. What is the significance of the net book value being nil for the retired assets? Does this suggest they were fully depreciated?**\n",
            "\n",
            "A net book value of nil strongly suggests the assets were fully depreciated.  The accumulated depreciation had already reduced their book value to zero before retirement.\n",
            "\n"
          ]
        }
      ]
    },
    {
      "cell_type": "markdown",
      "source": [],
      "metadata": {
        "id": "v4U3irJSFBbG"
      }
    },
    {
      "cell_type": "markdown",
      "source": [
        "**Interactive QA Bot Interface**"
      ],
      "metadata": {
        "id": "EFQJ-3hz8P8N"
      }
    },
    {
      "cell_type": "code",
      "source": [
        "import streamlit as st\n",
        "import PyPDF2\n",
        "from sentence_transformers import SentenceTransformer\n",
        "import faiss\n",
        "import numpy as np\n",
        "import google.generativeai as genai\n",
        "\n",
        "# Configure Gemini API\n",
        "genai.configure(api_key=\"Your_API_Key\")\n",
        "\n",
        "# Step 1: Extract and Preprocess Data\n",
        "def extract_and_preprocess(pdf_file):\n",
        "    reader = PyPDF2.PdfReader(pdf_file)\n",
        "    text = \"\"\n",
        "    for page in reader.pages:\n",
        "        text += page.extract_text()\n",
        "    data = {}\n",
        "    lines = text.split(\"\\n\")\n",
        "    for line in lines:\n",
        "        if \":\" in line:\n",
        "            key, value = line.split(\":\", 1)\n",
        "            data[key.strip()] = value.strip()\n",
        "    return data\n",
        "\n",
        "# Step 2: Create FAISS Index\n",
        "def create_faiss_index(data):\n",
        "    model = SentenceTransformer('all-MiniLM-L6-v2')\n",
        "    keys = list(data.keys())\n",
        "    values = list(data.values())\n",
        "    key_embeddings = model.encode(keys)\n",
        "    value_embeddings = model.encode(values)\n",
        "    embeddings = np.hstack((key_embeddings, value_embeddings))\n",
        "    dimension = embeddings.shape[1]\n",
        "    index = faiss.IndexFlatL2(dimension)\n",
        "    index.add(embeddings)\n",
        "    return index, keys, values, model\n",
        "\n",
        "# Step 3: Retrieve Data\n",
        "def retrieve_data(query, index, keys, values, model, top_k=3):\n",
        "    query_embedding = model.encode([query])[0]\n",
        "    query_embedding = np.hstack((query_embedding, query_embedding))\n",
        "    distances, indices = index.search(np.array([query_embedding]), top_k)\n",
        "    results = [(keys[i], values[i]) for i in indices[0]]\n",
        "    return results\n",
        "\n",
        "# Step 4: Generate Response Using Gemini API\n",
        "def generate_response(query, context):\n",
        "    model = genai.GenerativeModel('gemini-1.5-flash')\n",
        "    prompt = f\"Context: {context}\\n\\nQuestion: {query}\\nAnswer:\"\n",
        "    response = model.generate_content(prompt)\n",
        "    return response.text\n",
        "\n",
        "# Streamlit App\n",
        "st.title(\"Financial QA Bot\")\n",
        "\n",
        "# Upload PDF\n",
        "uploaded_file = st.file_uploader(\"Upload a PDF with P&L Data\", type=\"pdf\")\n",
        "\n",
        "# Input Query\n",
        "query = st.text_input(\"Ask a question about the financial data:\")\n",
        "\n",
        "# Generate Button\n",
        "if st.button(\"Generate\"):\n",
        "    if uploaded_file and query:\n",
        "        # Extract and preprocess data\n",
        "        data = extract_and_preprocess(uploaded_file)\n",
        "        index, keys, values, model = create_faiss_index(data)\n",
        "\n",
        "        # Retrieve relevant data\n",
        "        results = retrieve_data(query, index, keys, values, model)\n",
        "        context = \"\\n\".join([f\"{k}: {v}\" for k, v in results])\n",
        "\n",
        "        # Generate and display response\n",
        "        response = generate_response(query, context)\n",
        "        st.write(\"### Answer:\")\n",
        "        st.write(response)\n",
        "        st.write(\"### Relevant Data:\")\n",
        "        st.write(context)\n",
        "    else:\n",
        "        st.warning(\"Please upload a PDF and enter a query.\")"
      ],
      "metadata": {
        "colab": {
          "base_uri": "https://localhost:8080/"
        },
        "id": "zwvDKNXE_cov",
        "outputId": "765b7143-e2d2-4316-feaa-693c4f67a8cb"
      },
      "execution_count": 42,
      "outputs": [
        {
          "output_type": "stream",
          "name": "stderr",
          "text": [
            "2025-01-27 23:11:24.523 Thread 'MainThread': missing ScriptRunContext! This warning can be ignored when running in bare mode.\n",
            "2025-01-27 23:11:24.524 Thread 'MainThread': missing ScriptRunContext! This warning can be ignored when running in bare mode.\n",
            "2025-01-27 23:11:24.528 Thread 'MainThread': missing ScriptRunContext! This warning can be ignored when running in bare mode.\n",
            "2025-01-27 23:11:24.529 Thread 'MainThread': missing ScriptRunContext! This warning can be ignored when running in bare mode.\n",
            "2025-01-27 23:11:24.532 Thread 'MainThread': missing ScriptRunContext! This warning can be ignored when running in bare mode.\n",
            "2025-01-27 23:11:24.533 Thread 'MainThread': missing ScriptRunContext! This warning can be ignored when running in bare mode.\n",
            "2025-01-27 23:11:24.536 Thread 'MainThread': missing ScriptRunContext! This warning can be ignored when running in bare mode.\n",
            "2025-01-27 23:11:24.538 Thread 'MainThread': missing ScriptRunContext! This warning can be ignored when running in bare mode.\n",
            "2025-01-27 23:11:24.539 Thread 'MainThread': missing ScriptRunContext! This warning can be ignored when running in bare mode.\n",
            "2025-01-27 23:11:24.542 Thread 'MainThread': missing ScriptRunContext! This warning can be ignored when running in bare mode.\n",
            "2025-01-27 23:11:24.543 Thread 'MainThread': missing ScriptRunContext! This warning can be ignored when running in bare mode.\n",
            "2025-01-27 23:11:24.545 Thread 'MainThread': missing ScriptRunContext! This warning can be ignored when running in bare mode.\n",
            "2025-01-27 23:11:24.546 Thread 'MainThread': missing ScriptRunContext! This warning can be ignored when running in bare mode.\n",
            "2025-01-27 23:11:24.551 Thread 'MainThread': missing ScriptRunContext! This warning can be ignored when running in bare mode.\n",
            "2025-01-27 23:11:24.553 Thread 'MainThread': missing ScriptRunContext! This warning can be ignored when running in bare mode.\n",
            "2025-01-27 23:11:24.554 Thread 'MainThread': missing ScriptRunContext! This warning can be ignored when running in bare mode.\n",
            "2025-01-27 23:11:24.555 Thread 'MainThread': missing ScriptRunContext! This warning can be ignored when running in bare mode.\n",
            "2025-01-27 23:11:24.558 Thread 'MainThread': missing ScriptRunContext! This warning can be ignored when running in bare mode.\n"
          ]
        }
      ]
    }
  ]
}